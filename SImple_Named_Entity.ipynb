{
 "cells": [
  {
   "cell_type": "code",
   "execution_count": 1,
   "id": "60f9f167-b5b0-4ab7-bc37-e55e660a4bb0",
   "metadata": {},
   "outputs": [
    {
     "name": "stderr",
     "output_type": "stream",
     "text": [
      "C:\\ProgramData\\anaconda3\\envs\\N_38\\lib\\site-packages\\tqdm\\auto.py:21: TqdmWarning: IProgress not found. Please update jupyter and ipywidgets. See https://ipywidgets.readthedocs.io/en/stable/user_install.html\n",
      "  from .autonotebook import tqdm as notebook_tqdm\n",
      "All PyTorch model weights were used when initializing TFBertForTokenClassification.\n",
      "\n",
      "All the weights of TFBertForTokenClassification were initialized from the PyTorch model.\n",
      "If your task is similar to the task the model of the checkpoint was trained on, you can already use TFBertForTokenClassification for predictions without further training.\n",
      "C:\\ProgramData\\anaconda3\\envs\\N_38\\lib\\site-packages\\transformers\\pipelines\\token_classification.py:170: UserWarning: `grouped_entities` is deprecated and will be removed in version v5.0.0, defaulted to `aggregation_strategy=\"simple\"` instead.\n",
      "  warnings.warn(\n"
     ]
    },
    {
     "name": "stdout",
     "output_type": "stream",
     "text": [
      "Running on local URL:  http://127.0.0.1:7864\n",
      "\n",
      "To create a public link, set `share=True` in `launch()`.\n"
     ]
    },
    {
     "data": {
      "text/html": [
       "<div><iframe src=\"http://127.0.0.1:7864/\" width=\"100%\" height=\"500\" allow=\"autoplay; camera; microphone; clipboard-read; clipboard-write;\" frameborder=\"0\" allowfullscreen></iframe></div>"
      ],
      "text/plain": [
       "<IPython.core.display.HTML object>"
      ]
     },
     "metadata": {},
     "output_type": "display_data"
    },
    {
     "data": {
      "text/plain": []
     },
     "execution_count": 1,
     "metadata": {},
     "output_type": "execute_result"
    }
   ],
   "source": [
    "import gradio as gr\n",
    "from transformers import pipeline\n",
    "from html import escape\n",
    "\n",
    "# Load NER pipeline\n",
    "ner = pipeline(\"ner\", model=\"dslim/bert-base-NER\", grouped_entities=True)\n",
    "\n",
    "# Function to highlight entities in HTML\n",
    "def highlight_entities(text):\n",
    "    if len(text.strip()) == 0:\n",
    "        return \"⚠️ Please enter some text.\"\n",
    "    \n",
    "    entities = ner(text)\n",
    "    highlighted_text = escape(text)\n",
    "    \n",
    "    # Replace entity text with colored HTML spans\n",
    "    for entity in sorted(entities, key=lambda x: x['start'], reverse=True):\n",
    "        label = entity['entity_group']\n",
    "        word = entity['word']\n",
    "        color = {\n",
    "            'PER': 'lightgreen',\n",
    "            'ORG': 'lightblue',\n",
    "            'LOC': 'orange',\n",
    "            'MISC': 'pink'\n",
    "        }.get(label, 'yellow')\n",
    "        # HTML span\n",
    "        highlighted_text = (\n",
    "            highlighted_text[:entity['start']] +\n",
    "            f\"<span style='background-color:{color};'>{escape(word)}</span>\" +\n",
    "            highlighted_text[entity['end']:]\n",
    "        )\n",
    "    \n",
    "    return highlighted_text\n",
    "\n",
    "# Gradio app\n",
    "demo = gr.Interface(\n",
    "    fn=highlight_entities,\n",
    "    inputs=gr.Textbox(lines=10, placeholder=\"Type or paste text here...\"),\n",
    "    outputs=gr.HTML(),\n",
    "    title=\"🟢 Named Entity Highlighter\",\n",
    "    description=\"Highlights People (green), Organizations (blue), Locations (orange), Misc (pink).\"\n",
    ")\n",
    "\n",
    "demo.launch()\n"
   ]
  },
  {
   "cell_type": "code",
   "execution_count": null,
   "id": "becc8124-eefa-443b-a553-17738d30f0ee",
   "metadata": {},
   "outputs": [],
   "source": []
  }
 ],
 "metadata": {
  "kernelspec": {
   "display_name": "Python 3 (ipykernel)",
   "language": "python",
   "name": "python3"
  },
  "language_info": {
   "codemirror_mode": {
    "name": "ipython",
    "version": 3
   },
   "file_extension": ".py",
   "mimetype": "text/x-python",
   "name": "python",
   "nbconvert_exporter": "python",
   "pygments_lexer": "ipython3",
   "version": "3.8.18"
  }
 },
 "nbformat": 4,
 "nbformat_minor": 5
}
