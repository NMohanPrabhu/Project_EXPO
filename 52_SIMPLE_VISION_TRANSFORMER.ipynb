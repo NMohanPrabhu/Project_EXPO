{
 "cells": [
  {
   "cell_type": "code",
   "execution_count": 7,
   "id": "bb8f5ac8-9c3d-4790-aec5-4e73087f199c",
   "metadata": {},
   "outputs": [
    {
     "name": "stdout",
     "output_type": "stream",
     "text": [
      "Running on local URL:  http://127.0.0.1:7864\n",
      "\n",
      "To create a public link, set `share=True` in `launch()`.\n"
     ]
    },
    {
     "data": {
      "text/html": [
       "<div><iframe src=\"http://127.0.0.1:7864/\" width=\"100%\" height=\"500\" allow=\"autoplay; camera; microphone; clipboard-read; clipboard-write;\" frameborder=\"0\" allowfullscreen></iframe></div>"
      ],
      "text/plain": [
       "<IPython.core.display.HTML object>"
      ]
     },
     "metadata": {},
     "output_type": "display_data"
    }
   ],
   "source": [
    "\"\"\"\n",
    "Simple Vision Transformer (ViT) Hugging Face + Gradio app\n",
    "with sample input image.\n",
    "\n",
    "Requirements:\n",
    "    pip install torch torchvision transformers gradio pillow\n",
    "\"\"\"\n",
    "\n",
    "import gradio as gr\n",
    "import torch\n",
    "from transformers import ViTForImageClassification, ViTImageProcessor\n",
    "from PIL import Image\n",
    "\n",
    "# Load pre-trained ViT model and processor\n",
    "model_name = \"google/vit-base-patch16-224\"\n",
    "model = ViTForImageClassification.from_pretrained(model_name)\n",
    "processor = ViTImageProcessor.from_pretrained(model_name)\n",
    "\n",
    "device = torch.device(\"cuda\" if torch.cuda.is_available() else \"cpu\")\n",
    "model.to(device).eval()\n",
    "\n",
    "def classify_image(image):\n",
    "    # Process input\n",
    "    inputs = processor(images=image, return_tensors=\"pt\").to(device)\n",
    "    \n",
    "    with torch.no_grad():\n",
    "        outputs = model(**inputs)\n",
    "        probs = torch.nn.functional.softmax(outputs.logits, dim=-1)[0]\n",
    "    \n",
    "    # Top-5 predictions\n",
    "    topk_vals, topk_idxs = torch.topk(probs, k=5)\n",
    "    results = {model.config.id2label[idx.item()]: float(val) for val, idx in zip(topk_vals, topk_idxs)}\n",
    "    return results\n",
    "\n",
    "# Gradio interface\n",
    "demo = gr.Interface(\n",
    "    fn=classify_image,\n",
    "    inputs=gr.Image(type=\"pil\", label=\"Upload an Image\"),\n",
    "    outputs=gr.Label(num_top_classes=5, label=\"Predictions\"),\n",
    "    title=\"Simple Vision Transformer (ViT) Classifier\",\n",
    "    description=\"Upload an image to classify it using Hugging Face's Vision Transformer.\",\n",
    "    examples=[\n",
    "        [\"https://huggingface.co/datasets/mishig/sample_images/resolve/main/dog.jpg\"],\n",
    "        [\"https://huggingface.co/datasets/mishig/sample_images/resolve/main/cat.jpg\"],\n",
    "        [\"https://huggingface.co/datasets/mishig/sample_images/resolve/main/plane.jpeg\"],\n",
    "    ],\n",
    ")\n",
    "\n",
    "if __name__ == \"__main__\":\n",
    "    demo.launch()\n"
   ]
  },
  {
   "cell_type": "code",
   "execution_count": null,
   "id": "fe9778f2-d3d6-47a5-afca-4f14dc8d8fdc",
   "metadata": {},
   "outputs": [],
   "source": []
  }
 ],
 "metadata": {
  "kernelspec": {
   "display_name": "Python 3 (ipykernel)",
   "language": "python",
   "name": "python3"
  },
  "language_info": {
   "codemirror_mode": {
    "name": "ipython",
    "version": 3
   },
   "file_extension": ".py",
   "mimetype": "text/x-python",
   "name": "python",
   "nbconvert_exporter": "python",
   "pygments_lexer": "ipython3",
   "version": "3.8.18"
  }
 },
 "nbformat": 4,
 "nbformat_minor": 5
}
